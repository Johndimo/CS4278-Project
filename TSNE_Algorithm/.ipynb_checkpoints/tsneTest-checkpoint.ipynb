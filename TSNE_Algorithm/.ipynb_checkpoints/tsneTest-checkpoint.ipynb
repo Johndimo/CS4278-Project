{
 "cells": [
  {
   "cell_type": "code",
   "execution_count": 2,
   "metadata": {},
   "outputs": [],
   "source": [
    "import unittest\n",
    "import os\n",
    "\n",
    "from tsneAlgo import TsnePlot\n",
    "from plotly.graph_objects import Figure, Scatter\n",
    "import plotly"
   ]
  },
  {
   "cell_type": "code",
   "execution_count": 3,
   "metadata": {},
   "outputs": [
    {
     "name": "stderr",
     "output_type": "stream",
     "text": [
      ".."
     ]
    },
    {
     "name": "stdout",
     "output_type": "stream",
     "text": [
      "Columns not found\n",
      "Invalid output columns\n"
     ]
    },
    {
     "name": "stderr",
     "output_type": "stream",
     "text": [
      "F"
     ]
    },
    {
     "name": "stdout",
     "output_type": "stream",
     "text": [
      "Invalid output columns\n"
     ]
    },
    {
     "name": "stderr",
     "output_type": "stream",
     "text": [
      "F"
     ]
    },
    {
     "name": "stdout",
     "output_type": "stream",
     "text": [
      "Path not found\n"
     ]
    },
    {
     "name": "stderr",
     "output_type": "stream",
     "text": [
      "F"
     ]
    },
    {
     "name": "stdout",
     "output_type": "stream",
     "text": [
      "Sheet not found\n"
     ]
    },
    {
     "name": "stderr",
     "output_type": "stream",
     "text": [
      "\n",
      "======================================================================\n",
      "FAIL: testWrongColumnInserted (__main__.TestSuite)\n",
      "----------------------------------------------------------------------\n",
      "Traceback (most recent call last):\n",
      "  File \"<ipython-input-3-a6597a144c62>\", line 30, in testWrongColumnInserted\n",
      "    tsneClass.setOutputColumns('wrongCol1', 'wrongCol2')\n",
      "AssertionError: Exception not raised\n",
      "\n",
      "======================================================================\n",
      "FAIL: testWrongPathInserted (__main__.TestSuite)\n",
      "----------------------------------------------------------------------\n",
      "Traceback (most recent call last):\n",
      "  File \"<ipython-input-3-a6597a144c62>\", line 6, in testWrongPathInserted\n",
      "    tsneClass = TsnePlot('wrongpath')\n",
      "AssertionError: FileNotFoundError not raised\n",
      "\n",
      "======================================================================\n",
      "FAIL: testWrongSheetInserted (__main__.TestSuite)\n",
      "----------------------------------------------------------------------\n",
      "Traceback (most recent call last):\n",
      "  File \"<ipython-input-3-a6597a144c62>\", line 17, in testWrongSheetInserted\n",
      "    tsneClass.setSheet('wrongSheet')\n",
      "AssertionError: Exception not raised\n",
      "\n",
      "----------------------------------------------------------------------\n",
      "Ran 5 tests in 30.556s\n",
      "\n",
      "FAILED (failures=3)\n"
     ]
    }
   ],
   "source": [
    "class TestSuite(unittest.TestCase):\n",
    "    path = os. getcwd() + '\\\\test.xlsb'\n",
    "        \n",
    "    def testWrongPathInserted(self):\n",
    "        with self.assertRaises(FileNotFoundError):\n",
    "            tsneClass = TsnePlot('wrongpath')\n",
    "            \n",
    "    def testRightPathInserted(self):\n",
    "        try:\n",
    "            tsneClass = TsnePlot(self.path)\n",
    "        except FileNotFoundError:\n",
    "            self.fail(\"TsnePlot(path) raised FileNotFoundError unexpectedly!\")\n",
    "            \n",
    "    def testWrongSheetInserted(self):\n",
    "        tsneClass = TsnePlot(self.path)\n",
    "        with self.assertRaises(Exception):\n",
    "            tsneClass.setSheet('wrongSheet')\n",
    "            \n",
    "    def testRightSheetInserted(self):\n",
    "        tsneClass = TsnePlot(self.path)\n",
    "        try:\n",
    "            tsneClass.setSheet('testSheet')\n",
    "        except Exception:\n",
    "            self.fail(\"TsnePlot.setSheet(sheetName) raised Exception unexpectedly!\")\n",
    "            \n",
    "    def testWrongColumnInserted(self):\n",
    "        tsneClass = TsnePlot(self.path)\n",
    "        tsneClass.setSheet('testSheet')\n",
    "        with self.assertRaises(Exception):\n",
    "            tsneClass.setOutputColumns('wrongCol1', 'wrongCol2')\n",
    "            \n",
    "    def testRightSheetInserted(self):\n",
    "        tsneClass = TsnePlot(self.path)\n",
    "        try:\n",
    "            tsneClass.setOutputColumns('Col1', 'Col2')\n",
    "        except Exception:\n",
    "            self.fail(\"TsnePlot.setOutputColumns(colName1, colName2) raised Exception unexpectedly!\")\n",
    "            \n",
    "if __name__ == '__main__':\n",
    "    unittest.main(argv=['first-arg-is-ignored'], exit=False)"
   ]
  },
  {
   "cell_type": "code",
   "execution_count": null,
   "metadata": {},
   "outputs": [],
   "source": []
  }
 ],
 "metadata": {
  "kernelspec": {
   "display_name": "Python 3",
   "language": "python",
   "name": "python3"
  },
  "language_info": {
   "codemirror_mode": {
    "name": "ipython",
    "version": 3
   },
   "file_extension": ".py",
   "mimetype": "text/x-python",
   "name": "python",
   "nbconvert_exporter": "python",
   "pygments_lexer": "ipython3",
   "version": "3.7.3"
  }
 },
 "nbformat": 4,
 "nbformat_minor": 5
}
