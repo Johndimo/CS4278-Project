{
 "cells": [
  {
   "cell_type": "code",
   "execution_count": 1,
   "metadata": {},
   "outputs": [
    {
     "name": "stderr",
     "output_type": "stream",
     "text": [
      "C:\\Users\\Luke Laptop\\Anaconda3\\lib\\site-packages\\statsmodels\\tools\\_testing.py:19: FutureWarning: pandas.util.testing is deprecated. Use the functions in the public API at pandas.testing instead.\n",
      "  import pandas.util.testing as tm\n"
     ]
    }
   ],
   "source": []
  },
  {
   "cell_type": "code",
   "execution_count": 1,
   "metadata": {},
   "outputs": [
    {
     "name": "stderr",
     "output_type": "stream",
     "text": [
      "C:\\Users\\Luke Laptop\\Anaconda3\\lib\\site-packages\\statsmodels\\tools\\_testing.py:19: FutureWarning: pandas.util.testing is deprecated. Use the functions in the public API at pandas.testing instead.\n",
      "  import pandas.util.testing as tm\n"
     ]
    }
   ],
   "source": [
    "import pandas as pd\n",
    "from sklearn.manifold import TSNE\n",
    "import xlwings as xw\n",
    "from sklearn.cluster import DBSCAN\n",
    "from bioinfokit.visuz import cluster\n",
    "import plotly.express as px\n",
    "import math\n",
    "import numbers\n",
    "import datetime\n",
    "from pandas.api.types import is_numeric_dtype\n",
    "\n",
    "class TsnePlot:\n",
    "    path = \"\"\n",
    "    shapeCol = \"\"\n",
    "    colorCol = \"\"\n",
    "    \n",
    "    def __init__(self, newPath, newShapeCol, newColorCol):\n",
    "        self.path = newPath\n",
    "        self.shapeCol = newShapeCol\n",
    "        self.colorCol = newColorCol\n",
    "    \n",
    "    \n",
    "\n",
    "    def getPlot(self):\n",
    "        app = xw.App()\n",
    "        book = xw.Book(self.path)\n",
    "        sheet = book.sheets('Master corrected variables')\n",
    "        df = sheet.range('A1').options(pd.DataFrame, expand='table').value\n",
    "        book.close()\n",
    "        app.kill()\n",
    "\n",
    "        ID = df.index.values\n",
    "        df = df.fillna('')\n",
    "        df = df.loc[:,~df.columns.duplicated()]\n",
    "        columns = list(df)\n",
    "\n",
    "        columnNumber = 0\n",
    "        dicts = {}\n",
    "        for column in df:\n",
    "            i = 1\n",
    "            thisDict = {}\n",
    "            uniques = df[column].unique()\n",
    "            for item in uniques:\n",
    "                if not item in thisDict:\n",
    "                    if isinstance(item, numbers.Number):\n",
    "                        thisDict[item] = item\n",
    "                    else:\n",
    "                        if i in uniques:\n",
    "                            j = i\n",
    "                            while j not in uniques:\n",
    "                                j = j + 1\n",
    "                            thisDict[item] = j\n",
    "                        else:\n",
    "                            thisDict[item] = i\n",
    "                            i = i + 1\n",
    "            dicts[columns[columnNumber]] =  thisDict\n",
    "            columnNumber = columnNumber + 1\n",
    "\n",
    "        df2 = df\n",
    "\n",
    "        i = 0\n",
    "        for item in dicts:\n",
    "            if not is_numeric_dtype(df[item]):\n",
    "                replacement = {item: dicts[item]}\n",
    "                df2 = df2.replace(replacement)\n",
    "            i = i + 1\n",
    "\n",
    "\n",
    "        for column in df2:\n",
    "            df2[column] = df2[column].fillna(0)\n",
    "            if not isinstance(df2[column][0],datetime.datetime):\n",
    "                if df2[column].std() != 0:\n",
    "                    df2[column] = (df2[column] - df2[column].mean()) / df2[column].std()\n",
    "\n",
    "\n",
    "        tsne_em = TSNE(n_components=2, perplexity=38.0, n_iter=5000, verbose=1).fit_transform(df2)\n",
    "\n",
    "        df_results = df\n",
    "        df_results['x'] = tsne_em[:,0]\n",
    "        df_results['y'] = tsne_em[:,1]\n",
    "        df_results['ID'] = df.index.values\n",
    "        for row in df_results:\n",
    "            df_results[row] = df_results[row].astype(float, errors = 'ignore')\n",
    "        df_results['dob'] = df_results['dob'].astype(object)\n",
    "\n",
    "        df_results.drop(df_results.loc[df_results['DM']=='null'].index, inplace=True)\n",
    "\n",
    "        df_results = df_results.apply(pd.to_numeric, errors='ignore')\n",
    "\n",
    "        fig = px.scatter(df_results, x=\"x\", y=\"y\", color=self.colorCol, symbol=self.shapeCol, hover_data=[\"ID\"])\n",
    "        fig.update_traces(marker={'size': 7, 'line' : {'color' : 'rgba(0, 0, 0, 0.5)',\n",
    "                                           'width' : 1}})\n",
    "\n",
    "        fig.layout.legend.y = 1.05\n",
    "        fig.layout.legend.x = 1.035\n",
    "        fig.layout.coloraxis.colorbar.y = 0.35\n",
    "\n",
    "        fig.show()\n",
    "        return fig"
   ]
  },
  {
   "cell_type": "code",
   "execution_count": 2,
   "metadata": {},
   "outputs": [],
   "source": [
    "algoClass = TsnePlot('DR Metformin Data 8192021 from santi for asutin group.xlsb',\"DM\" , \"DM Duration\")"
   ]
  },
  {
   "cell_type": "code",
   "execution_count": null,
   "metadata": {},
   "outputs": [
    {
     "name": "stderr",
     "output_type": "stream",
     "text": [
      "C:\\Users\\Luke Laptop\\Anaconda3\\lib\\site-packages\\ipykernel_launcher.py:48: DeprecationWarning: elementwise comparison failed; this will raise an error in the future.\n"
     ]
    },
    {
     "name": "stdout",
     "output_type": "stream",
     "text": [
      "[t-SNE] Computing 115 nearest neighbors...\n",
      "[t-SNE] Indexed 675 samples in 0.000s...\n",
      "[t-SNE] Computed neighbors for 675 samples in 0.064s...\n",
      "[t-SNE] Computed conditional probabilities for sample 675 / 675\n",
      "[t-SNE] Mean sigma: 1.501530\n",
      "[t-SNE] KL divergence after 250 iterations with early exaggeration: 63.088161\n"
     ]
    }
   ],
   "source": [
    "plot = algoClass.getPlot()"
   ]
  },
  {
   "cell_type": "code",
   "execution_count": 5,
   "metadata": {},
   "outputs": [],
   "source": []
  },
  {
   "cell_type": "code",
   "execution_count": 6,
   "metadata": {},
   "outputs": [],
   "source": []
  },
  {
   "cell_type": "code",
   "execution_count": null,
   "metadata": {},
   "outputs": [],
   "source": []
  },
  {
   "cell_type": "code",
   "execution_count": 7,
   "metadata": {
    "scrolled": false
   },
   "outputs": [],
   "source": []
  },
  {
   "cell_type": "code",
   "execution_count": null,
   "metadata": {},
   "outputs": [],
   "source": []
  },
  {
   "cell_type": "code",
   "execution_count": 9,
   "metadata": {},
   "outputs": [],
   "source": []
  },
  {
   "cell_type": "code",
   "execution_count": 10,
   "metadata": {},
   "outputs": [],
   "source": []
  },
  {
   "cell_type": "code",
   "execution_count": null,
   "metadata": {},
   "outputs": [],
   "source": []
  },
  {
   "cell_type": "code",
   "execution_count": 11,
   "metadata": {},
   "outputs": [],
   "source": []
  },
  {
   "cell_type": "code",
   "execution_count": null,
   "metadata": {},
   "outputs": [],
   "source": []
  }
 ],
 "metadata": {
  "kernelspec": {
   "display_name": "Python 3",
   "language": "python",
   "name": "python3"
  },
  "language_info": {
   "codemirror_mode": {
    "name": "ipython",
    "version": 3
   },
   "file_extension": ".py",
   "mimetype": "text/x-python",
   "name": "python",
   "nbconvert_exporter": "python",
   "pygments_lexer": "ipython3",
   "version": "3.7.3"
  }
 },
 "nbformat": 4,
 "nbformat_minor": 2
}
