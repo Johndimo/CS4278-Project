{
 "cells": [
  {
   "cell_type": "code",
   "execution_count": 55,
   "id": "933d0cd8",
   "metadata": {},
   "outputs": [],
   "source": [
    "import sys\n",
    "import os\n",
    "import unittest\n",
    "\n",
    "from tsneAlgo import TsnePlot\n",
    "from plotly.graph_objects import Figure, Scatter\n",
    "import plotly"
   ]
  },
  {
   "cell_type": "code",
   "execution_count": 56,
   "id": "4d3b1281",
   "metadata": {},
   "outputs": [
    {
     "name": "stderr",
     "output_type": "stream",
     "text": [
      ".\n",
      "----------------------------------------------------------------------\n",
      "Ran 1 test in 0.585s\n",
      "\n",
      "OK\n"
     ]
    }
   ],
   "source": [
    "class TestSuite(unittest.TestCase):\n",
    "        \n",
    "    def testWrongPathInserted(self):\n",
    "        with self.assertRaises(FileNotFoundError):\n",
    "            tsneClass = TsnePlot('wrongpath')\n",
    "            \n",
    "if __name__ == '__main__':\n",
    "    unittest.main(argv=['first-arg-is-ignored'], exit=False)"
   ]
  },
  {
   "cell_type": "code",
   "execution_count": null,
   "id": "51b5e46d",
   "metadata": {},
   "outputs": [],
   "source": []
  }
 ],
 "metadata": {
  "kernelspec": {
   "display_name": "Python 3",
   "language": "python",
   "name": "python3"
  },
  "language_info": {
   "codemirror_mode": {
    "name": "ipython",
    "version": 3
   },
   "file_extension": ".py",
   "mimetype": "text/x-python",
   "name": "python",
   "nbconvert_exporter": "python",
   "pygments_lexer": "ipython3",
   "version": "3.8.8"
  }
 },
 "nbformat": 4,
 "nbformat_minor": 5
}
