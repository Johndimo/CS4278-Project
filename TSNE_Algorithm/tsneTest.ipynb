{
 "cells": [
  {
   "cell_type": "code",
   "execution_count": 84,
   "id": "52f963ee",
   "metadata": {},
   "outputs": [],
   "source": [
    "import unittest\n",
    "import os\n",
    "\n",
    "from tsneAlgo import TsnePlot\n",
    "from plotly.graph_objects import Figure, Scatter\n",
    "import plotly"
   ]
  },
  {
   "cell_type": "code",
   "execution_count": 85,
   "id": "bb124dc0",
   "metadata": {},
   "outputs": [
    {
     "name": "stderr",
     "output_type": "stream",
     "text": [
      ".F..\n",
      "======================================================================\n",
      "FAIL: testRightSheetInserted (__main__.TestSuite)\n",
      "----------------------------------------------------------------------\n",
      "Traceback (most recent call last):\n",
      "  File \"<ipython-input-85-d2c1e0e3b909>\", line 22, in testRightSheetInserted\n",
      "    tsneClass.setSheet('testSheet')\n",
      "pywintypes.com_error: (-2147352567, 'Exception occurred.', (0, None, None, None, 0, -2147352565), None)\n",
      "\n",
      "During handling of the above exception, another exception occurred:\n",
      "\n",
      "Traceback (most recent call last):\n",
      "  File \"<ipython-input-85-d2c1e0e3b909>\", line 24, in testRightSheetInserted\n",
      "    self.fail(\"TsnePlot.setSheet(sheetName) raised FileNotFoundError unexpectedly!\")\n",
      "AssertionError: TsnePlot.setSheet(sheetName) raised FileNotFoundError unexpectedly!\n",
      "\n",
      "----------------------------------------------------------------------\n",
      "Ran 4 tests in 14.329s\n",
      "\n",
      "FAILED (failures=1)\n"
     ]
    }
   ],
   "source": [
    "class TestSuite(unittest.TestCase):\n",
    "    path = os. getcwd() + '\\\\test.xlsb'\n",
    "        \n",
    "    def testWrongPathInserted(self):\n",
    "        with self.assertRaises(FileNotFoundError):\n",
    "            tsneClass = TsnePlot('wrongpath')\n",
    "            \n",
    "    def testRightPathInserted(self):\n",
    "        try:\n",
    "            tsneClass = TsnePlot(self.path)\n",
    "        except FileNotFoundError:\n",
    "            self.fail(\"TsnePlot(path) raised FileNotFoundError unexpectedly!\")\n",
    "            \n",
    "    def testWrongSheetInserted(self):\n",
    "        tsneClass = TsnePlot(self.path)\n",
    "        with self.assertRaises(Exception):\n",
    "            tsneClass.setSheet('wrongSheet')\n",
    "            \n",
    "    def testRightSheetInserted(self):\n",
    "        tsneClass = TsnePlot(self.path)\n",
    "        try:\n",
    "            tsneClass.setSheet('testSheet')\n",
    "        except Exception:\n",
    "            self.fail(\"TsnePlot.setSheet(sheetName) raised FileNotFoundError unexpectedly!\")\n",
    "            \n",
    "if __name__ == '__main__':\n",
    "    unittest.main(argv=['first-arg-is-ignored'], exit=False)"
   ]
  },
  {
   "cell_type": "code",
   "execution_count": null,
   "id": "ca652683",
   "metadata": {},
   "outputs": [],
   "source": []
  }
 ],
 "metadata": {
  "kernelspec": {
   "display_name": "Python 3",
   "language": "python",
   "name": "python3"
  },
  "language_info": {
   "codemirror_mode": {
    "name": "ipython",
    "version": 3
   },
   "file_extension": ".py",
   "mimetype": "text/x-python",
   "name": "python",
   "nbconvert_exporter": "python",
   "pygments_lexer": "ipython3",
   "version": "3.8.8"
  }
 },
 "nbformat": 4,
 "nbformat_minor": 5
}
