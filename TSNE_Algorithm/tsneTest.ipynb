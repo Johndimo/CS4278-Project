{
 "cells": [
  {
   "cell_type": "code",
   "execution_count": 127,
   "id": "66873c04",
   "metadata": {},
   "outputs": [],
   "source": [
    "import unittest\n",
    "import os\n",
    "\n",
    "from tsneAlgo import TsnePlot\n",
    "from plotly.graph_objects import Figure, Scatter\n",
    "import plotly"
   ]
  },
  {
   "cell_type": "code",
   "execution_count": 128,
   "id": "d1d47438",
   "metadata": {},
   "outputs": [
    {
     "name": "stderr",
     "output_type": "stream",
     "text": [
      "F..F..\n",
      "======================================================================\n",
      "FAIL: testGetSheet (__main__.TestSuite)\n",
      "----------------------------------------------------------------------\n",
      "Traceback (most recent call last):\n",
      "  File \"<ipython-input-128-15c4692eedc3>\", line 29, in testGetSheet\n",
      "    self.assertEqual(sheets[0], 'testSheet')\n",
      "AssertionError: 'Master corrected variables' != 'testSheet'\n",
      "- Master corrected variables\n",
      "+ testSheet\n",
      "\n",
      "\n",
      "======================================================================\n",
      "FAIL: testWrongColumnInserted (__main__.TestSuite)\n",
      "----------------------------------------------------------------------\n",
      "Traceback (most recent call last):\n",
      "  File \"<ipython-input-128-15c4692eedc3>\", line 35, in testWrongColumnInserted\n",
      "    tsneClass.setOutputColumns('wrongCol1', 'wrongCol2')\n",
      "AssertionError: Exception not raised\n",
      "\n",
      "----------------------------------------------------------------------\n",
      "Ran 6 tests in 16.367s\n",
      "\n",
      "FAILED (failures=2)\n"
     ]
    }
   ],
   "source": [
    "class TestSuite(unittest.TestCase):\n",
    "    path = os. getcwd() + '\\\\test.xlsb'\n",
    "        \n",
    "    def testWrongPathInserted(self):\n",
    "        with self.assertRaises(FileNotFoundError):\n",
    "            tsneClass = TsnePlot('wrongpath')\n",
    "            \n",
    "    def testRightPathInserted(self):\n",
    "        try:\n",
    "            tsneClass = TsnePlot(self.path)\n",
    "        except FileNotFoundError:\n",
    "            self.fail(\"TsnePlot(path) raised FileNotFoundError unexpectedly!\")\n",
    "            \n",
    "    def testWrongSheetInserted(self):\n",
    "        tsneClass = TsnePlot(self.path)\n",
    "        with self.assertRaises(Exception):\n",
    "            tsneClass.setSheet('wrongSheet')\n",
    "            \n",
    "    def testRightSheetInserted(self):\n",
    "        tsneClass = TsnePlot(self.path)\n",
    "        try:\n",
    "            tsneClass.setSheet('testSheet')\n",
    "        except Exception:\n",
    "            self.fail(\"TsnePlot.setSheet(sheetName) raised Exception unexpectedly!\")\n",
    "            \n",
    "    def testGetSheet(self):\n",
    "        tsneClass = TsnePlot(self.path)\n",
    "        sheets = tsneClass.getSheets()\n",
    "        self.assertEqual(sheets[0], 'testSheet')\n",
    "            \n",
    "    def testWrongColumnInserted(self):\n",
    "        tsneClass = TsnePlot(self.path)\n",
    "        tsneClass.setSheet('testSheet')\n",
    "        with self.assertRaises(Exception):\n",
    "            tsneClass.setOutputColumns('wrongCol1', 'wrongCol2')\n",
    "            \n",
    "    def testRightSheetInserted(self):\n",
    "        tsneClass = TsnePlot(self.path)\n",
    "        try:\n",
    "            tsneClass.setOutputColumns('Col1', 'Col2')\n",
    "        except Exception:\n",
    "            self.fail(\"TsnePlot.setOutputColumns(colName1, colName2) raised Exception unexpectedly!\")\n",
    "            \n",
    "if __name__ == '__main__':\n",
    "    unittest.main(argv=['first-arg-is-ignored'], exit=False)"
   ]
  },
  {
   "cell_type": "code",
   "execution_count": null,
   "id": "035da85a",
   "metadata": {},
   "outputs": [],
   "source": []
  }
 ],
 "metadata": {
  "kernelspec": {
   "display_name": "Python 3",
   "language": "python",
   "name": "python3"
  },
  "language_info": {
   "codemirror_mode": {
    "name": "ipython",
    "version": 3
   },
   "file_extension": ".py",
   "mimetype": "text/x-python",
   "name": "python",
   "nbconvert_exporter": "python",
   "pygments_lexer": "ipython3",
   "version": "3.8.8"
  }
 },
 "nbformat": 4,
 "nbformat_minor": 5
}
