{
 "cells": [
  {
   "cell_type": "code",
   "execution_count": 2,
   "metadata": {},
   "outputs": [],
   "source": [
    "import sys\n",
    "from PyQt5.QtCore import *\n",
    "from PyQt5.QtWidgets import *\n",
    "from PyQt5.QtGui import *\n",
    "from TSNE_Algorithm import TSNE"
   ]
  },
  {
   "cell_type": "code",
   "execution_count": null,
   "metadata": {},
   "outputs": [],
   "source": []
  },
  {
   "cell_type": "code",
   "execution_count": 3,
   "metadata": {},
   "outputs": [
    {
<<<<<<< Updated upstream
=======
     "name": "stdout",
     "output_type": "stream",
     "text": [
      "File path : C:/Users/giann/Desktop/project/CS4278-Project/TSNE_Algorithm/DR Metformin Data 8192021 from santi for asutin group.xlsb\n"
     ]
    },
    {
     "ename": "NameError",
     "evalue": "name 'TsnePlot' is not defined",
     "output_type": "error",
     "traceback": [
      "\u001b[1;31m---------------------------------------------------------------------------\u001b[0m",
      "\u001b[1;31mNameError\u001b[0m                                 Traceback (most recent call last)",
      "\u001b[1;32m<ipython-input-2-f3fb478d587d>\u001b[0m in \u001b[0;36mopen\u001b[1;34m(self)\u001b[0m\n\u001b[0;32m     56\u001b[0m         \u001b[1;32mif\u001b[0m \u001b[0mpath\u001b[0m \u001b[1;33m!=\u001b[0m \u001b[1;33m(\u001b[0m\u001b[1;34m''\u001b[0m\u001b[1;33m,\u001b[0m \u001b[1;34m''\u001b[0m\u001b[1;33m)\u001b[0m\u001b[1;33m:\u001b[0m\u001b[1;33m\u001b[0m\u001b[1;33m\u001b[0m\u001b[0m\n\u001b[0;32m     57\u001b[0m             \u001b[0mprint\u001b[0m\u001b[1;33m(\u001b[0m\u001b[1;34m\"File path : \"\u001b[0m\u001b[1;33m+\u001b[0m \u001b[0mpath\u001b[0m\u001b[1;33m[\u001b[0m\u001b[1;36m0\u001b[0m\u001b[1;33m]\u001b[0m\u001b[1;33m)\u001b[0m\u001b[1;33m\u001b[0m\u001b[1;33m\u001b[0m\u001b[0m\n\u001b[1;32m---> 58\u001b[1;33m             \u001b[0mTsneClass\u001b[0m \u001b[1;33m=\u001b[0m \u001b[0mTsnePlot\u001b[0m\u001b[1;33m(\u001b[0m\u001b[0mpath\u001b[0m\u001b[1;33m[\u001b[0m\u001b[1;36m0\u001b[0m\u001b[1;33m]\u001b[0m\u001b[1;33m)\u001b[0m\u001b[1;33m\u001b[0m\u001b[1;33m\u001b[0m\u001b[0m\n\u001b[0m\u001b[0;32m     59\u001b[0m             \u001b[0mTsneClass\u001b[0m\u001b[1;33m.\u001b[0m\u001b[0msetOutputColumns\u001b[0m\u001b[1;33m(\u001b[0m\u001b[1;34m\"DM\"\u001b[0m\u001b[1;33m,\u001b[0m \u001b[1;34m\"DM Duration\"\u001b[0m\u001b[1;33m)\u001b[0m\u001b[1;33m\u001b[0m\u001b[1;33m\u001b[0m\u001b[0m\n\u001b[0;32m     60\u001b[0m             \u001b[0mfigure\u001b[0m \u001b[1;33m=\u001b[0m \u001b[0mTsneClass\u001b[0m\u001b[1;33m.\u001b[0m\u001b[0mgetPlot\u001b[0m\u001b[1;33m(\u001b[0m\u001b[1;33m)\u001b[0m\u001b[1;33m\u001b[0m\u001b[1;33m\u001b[0m\u001b[0m\n",
      "\u001b[1;31mNameError\u001b[0m: name 'TsnePlot' is not defined"
     ]
    },
    {
>>>>>>> Stashed changes
     "ename": "SystemExit",
     "evalue": "0",
     "output_type": "error",
     "traceback": [
      "An exception has occurred, use %tb to see the full traceback.\n",
      "\u001b[1;31mSystemExit\u001b[0m\u001b[1;31m:\u001b[0m 0\n"
     ]
    },
    {
     "name": "stderr",
     "output_type": "stream",
     "text": [
      "C:\\Users\\Luke Laptop\\Anaconda3\\lib\\site-packages\\IPython\\core\\interactiveshell.py:3333: UserWarning: To exit: use 'exit', 'quit', or Ctrl-D.\n",
      "  warn(\"To exit: use 'exit', 'quit', or Ctrl-D.\", stacklevel=1)\n"
     ]
    }
   ],
   "source": [
    "class UI(QWidget):\n",
    "    def __init__(self):\n",
    "        super().__init__()\n",
    "        self.init_ui()\n",
    "\n",
    "    def init_ui(self):\n",
    "        self.resize(1500, 750)\n",
    "        self.center()\n",
    "        self.setWindowTitle('Clustering algorithm')\n",
    "        \n",
    "        label1 = QLabel('<h1>Welcome to our app!</h1>')\n",
    "        label1.setAlignment(Qt.AlignHCenter)\n",
    "        \n",
    "        label2 = QLabel('<h3>Upload a file to run the t-sne algorithm on</h3>')\n",
    "        label2.setAlignment(Qt.AlignCenter)\n",
    "\n",
    "        \n",
    "        btn = QPushButton(\"Open File\", self)\n",
    "        btn.setToolTip('Click here to upload a file')\n",
    "        btn.setFixedSize(100, 40)\n",
    "        \n",
    "        helpbtn = QPushButton(\"Help\", self)\n",
    "        helpbtn.setToolTip('Click here to read instructions')\n",
    "        helpbtn.setFixedSize(100, 40)\n",
    "        \n",
    "        layout = QVBoxLayout()\n",
    "        layout.addWidget(label1)\n",
    "        layout.addStretch()\n",
    "        layout.addWidget(label2)\n",
    "        layout.addWidget(btn, alignment=Qt.AlignCenter)\n",
    "        layout.addWidget(helpbtn, alignment=Qt.AlignCenter)\n",
    "        layout.addStretch()\n",
    "\n",
    "        self.setLayout(layout)\n",
    "        btn.clicked.connect(self.open)\n",
    "        helpbtn.clicked.connect(self.open_instructions_window)\n",
    "        \n",
    "        self.show()\n",
    "\n",
    "    def center(self):\n",
    "        # geometry of the main window\n",
    "        qr = self.frameGeometry()\n",
    "\n",
    "        # center point of screen\n",
    "        cp = QDesktopWidget().availableGeometry().center()\n",
    "\n",
    "        # move rectangle's center point to screen's center point\n",
    "        qr.moveCenter(cp)\n",
    "\n",
    "        # top left of rectangle becomes top left of window centering it\n",
    "        self.move(qr.topLeft())\n",
    "        \n",
    "    def open(self):\n",
    "        path = QFileDialog.getOpenFileName(self, 'Open a file', '',\n",
    "                                        'All Files (*.*)')\n",
    "        print(path)\n",
    "        if path != ('', ''):\n",
    "            print(\"File path : \"+ path[0])\n",
    "            TsneClass = TsnePlot(path[0])\n",
    "            TsneClass.setOutputColumns(\"DM\", \"DM Duration\")\n",
    "            figure = TsneClass.getPlot()\n",
    "            self.w = ClusteringAlgorithmWindow(figure)\n",
    "            self.w.show()\n",
    "            \n",
    "    def open_instructions_window(self, checked):\n",
    "        self.w = InstructionsWindow()\n",
    "        self.w.show()\n",
    "        \n",
    "class InstructionsWindow(QWidget):\n",
    "  \n",
    "    def __init__(self):\n",
    "        super().__init__()\n",
    "        self.init_ui()\n",
    "        \n",
    "    def init_ui(self):\n",
    "        self.resize(1500, 750)\n",
    "        self.center()\n",
    "        self.setWindowTitle('Clustering algorithm instructions')\n",
    "        \n",
    "        label1 = QLabel('<h1>Read the instructions on how to use the clustering algorithm app</h1>')\n",
    "        label1.setAlignment(Qt.AlignHCenter)\n",
    "        \n",
    "        label2 = QLabel('<h3>1.</h3>')\n",
    "        label2.setAlignment(Qt.AlignHCenter) \n",
    "        \n",
    "        label3 = QLabel('<h3>2.</h3>')\n",
    "        label3.setAlignment(Qt.AlignHCenter) \n",
    "        \n",
    "        label4 = QLabel('<h3>3.</h3>')\n",
    "        label4.setAlignment(Qt.AlignHCenter) \n",
    "        \n",
    "        layout = QVBoxLayout()\n",
    "        layout.addWidget(label1)\n",
    "        layout.addWidget(label2)\n",
    "        layout.addWidget(label3)\n",
    "        layout.addWidget(label4)\n",
    "\n",
    "        self.setLayout(layout)\n",
    "        \n",
    "        self.show()\n",
    "        \n",
    "    def center(self):\n",
    "        # geometry of the main window\n",
    "        qr = self.frameGeometry()\n",
    "\n",
    "        # center point of screen\n",
    "        cp = QDesktopWidget().availableGeometry().center()\n",
    "\n",
    "        # move rectangle's center point to screen's center point\n",
    "        qr.moveCenter(cp)\n",
    "\n",
    "        # top left of rectangle becomes top left of window centering it\n",
    "        self.move(qr.topLeft())\n",
    "        \n",
    "class ClusteringAlgorithmWindow(QWidget):\n",
    "  \n",
    "    def __init__(self, figure):\n",
    "        super().__init__()\n",
    "        self.init_ui()\n",
    "        \n",
    "    def init_ui(self, figure):\n",
    "        self.resize(1500, 750)\n",
    "        self.center()\n",
    "        self.setWindowTitle('Clustering agorithm outputs')\n",
    "        \n",
    "        label1 = QLabel('<h1>The outputs of the algorithm will show up here</h1>')\n",
    "        label1.setAlignment(Qt.AlignHCenter)\n",
    "        \n",
    "        layout = QVBoxLayout()\n",
    "        layout.addWidget(label1)\n",
    "\n",
    "        self.setLayout(layout)\n",
    "        \n",
    "        figure.show()\n",
    "        self.show()\n",
    "        \n",
    "    def center(self):\n",
    "        # geometry of the main window\n",
    "        qr = self.frameGeometry()\n",
    "\n",
    "        # center point of screen\n",
    "        cp = QDesktopWidget().availableGeometry().center()\n",
    "\n",
    "        # move rectangle's center point to screen's center point\n",
    "        qr.moveCenter(cp)\n",
    "\n",
    "        # top left of rectangle becomes top left of window centering it\n",
    "        self.move(qr.topLeft())\n",
    "\n",
    "if __name__ == \"__main__\":\n",
    "    app = QApplication(sys.argv)\n",
    "    ex = UI()\n",
    "    sys.exit(app.exec_())"
   ]
  },
  {
   "cell_type": "code",
   "execution_count": null,
   "metadata": {},
   "outputs": [],
   "source": []
  },
  {
   "cell_type": "code",
   "execution_count": null,
   "metadata": {},
   "outputs": [],
   "source": []
  },
  {
   "cell_type": "code",
   "execution_count": null,
   "metadata": {},
   "outputs": [],
   "source": []
  }
 ],
 "metadata": {
  "kernelspec": {
   "display_name": "Python 3",
   "language": "python",
   "name": "python3"
<<<<<<< Updated upstream
  },
  "language_info": {
   "codemirror_mode": {
    "name": "ipython",
    "version": 3
   },
   "file_extension": ".py",
   "mimetype": "text/x-python",
   "name": "python",
   "nbconvert_exporter": "python",
   "pygments_lexer": "ipython3",
   "version": "3.7.3"
=======
>>>>>>> Stashed changes
  }
 },
 "nbformat": 4,
 "nbformat_minor": 5
}
